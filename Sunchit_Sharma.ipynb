{
 "cells": [
  {
   "cell_type": "markdown",
   "metadata": {},
   "source": [
    "# Taking file input"
   ]
  },
  {
   "cell_type": "code",
   "execution_count": 70,
   "metadata": {},
   "outputs": [],
   "source": [
    "def readcorpus():\n",
    "    corpus=[]\n",
    "    fi=open(\"Data/train.txt\",\"r\")\n",
    "    for line in fi:\n",
    "        corpus.append(line[:-1]);\n",
    "    corpus = filter(None, corpus)                                      # Getting rid of NULLS\n",
    "    return corpus[0:len(corpus)/10]\n"
   ]
  },
  {
   "cell_type": "markdown",
   "metadata": {},
   "source": [
    "# Making N-Grams"
   ]
  },
  {
   "cell_type": "code",
   "execution_count": null,
   "metadata": {},
   "outputs": [],
   "source": [
    "## TEST ##\n",
    "#print readcorpus()[1:100]\n",
    "sentence_end =\".?!\"\n",
    "\n",
    "def ngrams_ds(corpus,n):\n",
    "    final_dict={}\n",
    "    final_dict['none']={}\n",
    "    for i in range(0,len(corpus)):\n",
    "        right=[]\n",
    "        wrong=[]\n",
    "        error=[]\n",
    "        for j in range(0,n):\n",
    "            if(i+j < len(corpus) and corpus[i+j] not in sentence_end):\n",
    "                wrong.append(corpus[i+j].split()[0])\n",
    "                if len(corpus[i+j].split(\"   \")) > 1 :                                # WORD HAS ERROR\n",
    "                    error.append(corpus[i+j].split(\"   \")[2])                         # MAKE ENTRY IN ERROR\n",
    "                    if len(right)>1:\n",
    "                        if(corpus[i+j].split(\"   \")[2] not in right):                 # CHECK FOR REPEAT ERROR TYPE\n",
    "                            right.append(corpus[i+j].split(\"   \")[1])\n",
    "                else:                                                                 # WORD WAS RIGHT\n",
    "                    right.append(corpus[i+j].split()[0])\n",
    "            else:\n",
    "                i=j+1\n",
    "                break;\n",
    "            for k in error:\n",
    "                if len(wrong)==n and len(right)==n:\n",
    "                    if k not in final_dict.keys():                                    # New error type discovered\n",
    "                        final_dict[k]={}\n",
    "                        final_dict[k][tuple(wrong)]={}\n",
    "                        final_dict[k][tuple(wrong)][tuple(right)]=1\n",
    "                    else:                                                             # Error type exists Therfore dict exists\n",
    "                        if tuple(wrong) not in final_dict[k].keys():                  # First time wrong n-gram came\n",
    "                            final_dict[k][tuple(wrong)]={}\n",
    "                            final_dict[k][tuple(wrong)][tuple(right)]=1\n",
    "                        else:\n",
    "                            if tuple(right) in final_dict[k][tuple(wrong)].keys():    # for wrong word rigth came again\n",
    "                                final_dict[k][tuple(wrong)][tuple(right)]+=1\n",
    "                            else:                                                     # Although wrong word existed the right came for the first time\n",
    "                                final_dict[k][tuple(wrong)][tuple(right)]=1\n",
    "            \n",
    "            if len(wrong)==n and len(right)==n:\n",
    "                if tuple(right) not in final_dict['none'].keys():\n",
    "                    final_dict['none'][tuple(right)]={}\n",
    "                    final_dict['none'][tuple(right)][tuple(right)]=1\n",
    "                else:\n",
    "                    if tuple(right) in final_dict['none'][tuple(right)].keys():\n",
    "                        final_dict['none'][tuple(right)][tuple(right)]+=1\n",
    "                    else:\n",
    "                        final_dict['none'][tuple(right)][tuple(right)]=1\n",
    "\n",
    "    return final_dict\n",
    "\n",
    "## TEST CODE ##\n",
    "print len(ngrams_ds(readcorpus(),3)['Nn'])\n",
    "    "
   ]
  }
 ],
 "metadata": {
  "kernelspec": {
   "display_name": "Python 2",
   "language": "python",
   "name": "python2"
  },
  "language_info": {
   "codemirror_mode": {
    "name": "ipython",
    "version": 2
   },
   "file_extension": ".py",
   "mimetype": "text/x-python",
   "name": "python",
   "nbconvert_exporter": "python",
   "pygments_lexer": "ipython2",
   "version": "2.7.12"
  }
 },
 "nbformat": 4,
 "nbformat_minor": 2
}
